{
 "cells": [
  {
   "cell_type": "code",
   "execution_count": 1,
   "metadata": {},
   "outputs": [],
   "source": [
    "import streamlit as st\n",
    "import pandas as pd\n",
    "import numpy as np\n",
    "import tensorflow as tf\n",
    "from tensorflow.keras.models import load_model\n",
    "import matplotlib.pyplot as plt\n",
    "import seaborn as sns\n",
    "import plotly.express as px\n",
    "from PIL import Image\n",
    "import re"
   ]
  },
  {
   "cell_type": "code",
   "execution_count": 2,
   "metadata": {},
   "outputs": [],
   "source": [
    "def preprocess_data(csv_file):\n",
    "    data_dict = {}\n",
    "    df = pd.read_csv(csv_file)\n",
    "    try:\n",
    "        header = df.columns[0]\n",
    "        match = re.search(r'(\\d+)dB', header.split('_')[1])\n",
    "    except Exception as e:\n",
    "        print(f\"Error processing header '{header}': {header}. Skipping this column.\")\n",
    "    # Check if there is a match for the numeric part in the header\n",
    "    if match:\n",
    "        if header.split('_')[1].startswith('N') or header.split('_')[1].startswith('n'):\n",
    "            SNR_level = -int(match.group(1))\n",
    "        else:\n",
    "            # If numeric part found, extract the SNR level\n",
    "            SNR_level = int(match.group(1))\n",
    "    else:\n",
    "        # If no numeric part and no 'N', set SNR level to 0\n",
    "        SNR_level = 0\n",
    "    modulation_type = header.split('_')[0]\n",
    "    fading = int(re.search(r'(\\d+)Hz', header.split('_')[2]).group(1))\n",
    "    key = tuple((modulation_type, SNR_level, fading))\n",
    "    # Extract the column data from the DataFrame\n",
    "    complex_column = df[header]\n",
    "    try:\n",
    "        complex_column = complex_column.apply(lambda x: re.sub(r'i.*$', 'i', x))\n",
    "        complex_column = complex_column.apply(lambda x: x.replace('i', 'j') if ('i' in x or 'j' in x) and '.' in x else 0)\n",
    "        complex_column = complex_column.apply(lambda x: complex(x))\n",
    "    except ValueError as e:\n",
    "        print(f\"Error processing header '{header}': {e}.\")\n",
    "    real_part = complex_column.apply(lambda x: x.real).astype(np.float32)\n",
    "    imaginary_part = complex_column.apply(lambda x: x.imag).astype(np.float32)\n",
    "    \n",
    "    data_dict[key] = np.array([real_part, imaginary_part])\n",
    "\n",
    "    print(data_dict[key].shape)\n",
    "    for key, value in data_dict.items():\n",
    "            \n",
    "        # Transpose signal data to shape (*, 128, 2)\n",
    "        data_dict[key] = np.reshape(value.T, (1, 128, 2))\n",
    "    print(data_dict[key].shape)\n",
    "\n",
    "    return data_dict"
   ]
  },
  {
   "cell_type": "code",
   "execution_count": 3,
   "metadata": {},
   "outputs": [
    {
     "name": "stdout",
     "output_type": "stream",
     "text": [
      "(2, 128)\n",
      "(1, 128, 2)\n"
     ]
    }
   ],
   "source": [
    "data_dict = preprocess_data('BPSK_15dB_5Hz.csv')"
   ]
  },
  {
   "cell_type": "code",
   "execution_count": 4,
   "metadata": {},
   "outputs": [],
   "source": [
    "model = load_model('cldnn_modelv11.keras')"
   ]
  },
  {
   "cell_type": "code",
   "execution_count": 5,
   "metadata": {},
   "outputs": [
    {
     "data": {
      "text/plain": [
       "dict_keys([('BPSK', 15, 5)])"
      ]
     },
     "execution_count": 5,
     "metadata": {},
     "output_type": "execute_result"
    }
   ],
   "source": [
    "data_dict.keys()"
   ]
  },
  {
   "cell_type": "code",
   "execution_count": 6,
   "metadata": {},
   "outputs": [
    {
     "data": {
      "text/plain": [
       "('BPSK', 15, 5)"
      ]
     },
     "execution_count": 6,
     "metadata": {},
     "output_type": "execute_result"
    }
   ],
   "source": [
    "next(iter(data_dict))"
   ]
  },
  {
   "cell_type": "code",
   "execution_count": 7,
   "metadata": {},
   "outputs": [],
   "source": [
    "X = data_dict[next(iter(data_dict))]"
   ]
  },
  {
   "cell_type": "code",
   "execution_count": 8,
   "metadata": {},
   "outputs": [
    {
     "name": "stdout",
     "output_type": "stream",
     "text": [
      "\u001b[1m1/1\u001b[0m \u001b[32m━━━━━━━━━━━━━━━━━━━━\u001b[0m\u001b[37m\u001b[0m \u001b[1m0s\u001b[0m 172ms/step\n"
     ]
    }
   ],
   "source": [
    "predictions = np.argmax(model.predict(X), axis=1)"
   ]
  },
  {
   "cell_type": "code",
   "execution_count": 9,
   "metadata": {},
   "outputs": [],
   "source": [
    "modulation_output_map = {0: 'BPSK',\n",
    "                         1: 'FSK2',\n",
    "                         2: 'FSK4',\n",
    "                         3: 'FSK8',\n",
    "                         4: 'LFM100K',\n",
    "                         5: 'LFM10M',\n",
    "                         6: 'LFM1M',\n",
    "                         7: 'PSK8',\n",
    "                         8: 'QAM16',\n",
    "                         9: 'QAM256',\n",
    "                         10: 'QAM8',\n",
    "                         11: 'QPSK'}"
   ]
  },
  {
   "cell_type": "code",
   "execution_count": 10,
   "metadata": {},
   "outputs": [
    {
     "data": {
      "text/plain": [
       "'BPSK'"
      ]
     },
     "execution_count": 10,
     "metadata": {},
     "output_type": "execute_result"
    }
   ],
   "source": [
    "modulation_predicted = modulation_output_map[predictions[0]]\n",
    "modulation_predicted"
   ]
  },
  {
   "cell_type": "code",
   "execution_count": 11,
   "metadata": {},
   "outputs": [
    {
     "ename": "SyntaxError",
     "evalue": "f-string: empty expression not allowed (511546419.py, line 23)",
     "output_type": "error",
     "traceback": [
      "\u001b[0;36m  Cell \u001b[0;32mIn[11], line 23\u001b[0;36m\u001b[0m\n\u001b[0;31m    plt.title(f'{}')\u001b[0m\n\u001b[0m                   ^\u001b[0m\n\u001b[0;31mSyntaxError\u001b[0m\u001b[0;31m:\u001b[0m f-string: empty expression not allowed\n"
     ]
    }
   ],
   "source": [
    "import numpy as np\n",
    "import matplotlib.pyplot as plt\n",
    "%matplotlib inline\n",
    "# Example signal data with shape (1, 128, 2)\n",
    "signal_data = np.random.randn(1, 128, 2)  # Replace this with your actual signal data\n",
    "\n",
    "# Extract real and imaginary parts from the signal data\n",
    "real_part = signal_data[0, :, 0]\n",
    "imaginary_part = signal_data[0, :, 1]\n",
    "\n",
    "# Create a new figure for plotting\n",
    "plt.figure(figsize=(12, 6))\n",
    "\n",
    "# Plot the real part as a blue line\n",
    "plt.plot(np.arange(128), real_part, label='Real Part', color='g')\n",
    "\n",
    "# Plot the imaginary part as a red dashed line\n",
    "plt.plot(np.arange(128), imaginary_part, label='Imaginary Part', color='b', linestyle='--')\n",
    "\n",
    "# Add labels, title, legend, and grid\n",
    "plt.xlabel('Time')\n",
    "plt.ylabel('Amplitude')\n",
    "plt.title(f'{}')\n",
    "plt.grid(True)\n",
    "plt.legend()\n",
    "\n",
    "# Show the plot\n",
    "plt.show()\n"
   ]
  },
  {
   "cell_type": "code",
   "execution_count": 15,
   "metadata": {},
   "outputs": [
    {
     "data": {
      "application/vnd.plotly.v1+json": {
       "config": {
        "plotlyServerURL": "https://plot.ly"
       },
       "data": [
        {
         "line": {
          "color": "blue"
         },
         "mode": "lines",
         "name": "Real Part",
         "type": "scatter",
         "x": [
          0,
          1,
          2,
          3,
          4,
          5,
          6,
          7,
          8,
          9,
          10,
          11,
          12,
          13,
          14,
          15,
          16,
          17,
          18,
          19,
          20,
          21,
          22,
          23,
          24,
          25,
          26,
          27,
          28,
          29,
          30,
          31,
          32,
          33,
          34,
          35,
          36,
          37,
          38,
          39,
          40,
          41,
          42,
          43,
          44,
          45,
          46,
          47,
          48,
          49,
          50,
          51,
          52,
          53,
          54,
          55,
          56,
          57,
          58,
          59,
          60,
          61,
          62,
          63,
          64,
          65,
          66,
          67,
          68,
          69,
          70,
          71,
          72,
          73,
          74,
          75,
          76,
          77,
          78,
          79,
          80,
          81,
          82,
          83,
          84,
          85,
          86,
          87,
          88,
          89,
          90,
          91,
          92,
          93,
          94,
          95,
          96,
          97,
          98,
          99,
          100,
          101,
          102,
          103,
          104,
          105,
          106,
          107,
          108,
          109,
          110,
          111,
          112,
          113,
          114,
          115,
          116,
          117,
          118,
          119,
          120,
          121,
          122,
          123,
          124,
          125,
          126,
          127
         ],
         "y": [
          0.20908038329974427,
          0.6167183268000748,
          0.6214083153352951,
          -0.34996398844864934,
          -0.13483962643238828,
          -0.7075342123437277,
          -2.2130549007603477,
          -0.9449265081486746,
          -0.4127105611591946,
          1.046569388376381,
          0.6372510015346675,
          -0.6327814244914032,
          1.1973779302695573,
          -0.9154904588251089,
          0.39933921343214235,
          0.6741107280035421,
          0.8561318864510554,
          0.02526859040455443,
          -1.0549674606307282,
          0.6042439527602308,
          2.1506689633726768,
          -0.5752496504489116,
          0.5841887448844559,
          0.3729072067421909,
          -0.6340728565864227,
          -0.1279851365177861,
          0.647623323893104,
          0.8080783737774916,
          -0.6232496263049393,
          1.675809678751143,
          0.8587036375231675,
          0.19887644246188452,
          -1.2497046771426825,
          0.3162568100565908,
          0.39024647611778124,
          -1.6934664683624836,
          0.08828494354461706,
          -1.0435569871291484,
          -0.15425735085032466,
          -0.48409326722795015,
          -0.7645333675996017,
          -1.2175861414814388,
          -1.7600673852419793,
          2.1261264719027726,
          1.765493648813055,
          0.7820173496678238,
          0.884540285641546,
          0.7950216524023911,
          -0.29829710377696145,
          -0.5477289628755199,
          0.19375975166112822,
          0.17500921457207394,
          -0.849296301896688,
          1.5521894837567343,
          -0.7362563195059529,
          -0.8675445738563072,
          1.107917619010653,
          0.993081434882465,
          -0.5463805739586464,
          -0.06830641990292065,
          -0.6137979306564099,
          0.36890110654164865,
          0.15113083521669946,
          0.1375787783670095,
          1.0511645232211069,
          0.017266153508175744,
          -0.08744192582980106,
          1.3831743852553924,
          -0.07061346552493242,
          0.07967609566434078,
          1.9095167820745338,
          -0.9200869542901093,
          -0.8413775473612392,
          0.3888940728320017,
          0.5613105329292536,
          0.09043399063427092,
          1.6418260514907321,
          0.21352112890525013,
          -0.9384925748401417,
          0.9395007015715506,
          -0.691971567545479,
          0.8358355253508133,
          -0.014031025233388368,
          1.4260794725473227,
          -0.43390626427195,
          0.24815733169444015,
          -0.7119845465634959,
          -1.1806526318299955,
          1.7100171409102827,
          1.9922324936056606,
          0.1928861573810511,
          -1.3885828398350075,
          -0.6840766493086088,
          -1.3225433189261555,
          -2.8262934582900634,
          -0.8285918304875951,
          -1.4340133905403327,
          0.047434766031034574,
          0.08201785092660097,
          0.9725906677188964,
          0.6014267865178319,
          -0.4464420094389287,
          0.4395144048852281,
          0.0530027917437249,
          -0.5483248251520698,
          1.2664636872446706,
          1.2217719330798884,
          -1.4974084544608899,
          -0.655002203932538,
          -0.24645690957102828,
          -2.1139321070765957,
          1.2657807067800797,
          -0.2504969429228159,
          0.348982452247877,
          0.38773353435595015,
          1.6965911047571653,
          -0.12392771727309045,
          -1.2080211800726803,
          -0.07322771351845458,
          -0.6144727975761778,
          0.1668670108558034,
          0.21531048556995314,
          0.09473686506391717,
          -0.39960438041589685,
          0.017627507035380127,
          2.4184290847870615,
          0.4096523317345241,
          -0.2074407004490565
         ]
        },
        {
         "line": {
          "color": "orange",
          "dash": "dash"
         },
         "mode": "lines",
         "name": "Imaginary Part",
         "type": "scatter",
         "x": [
          0,
          1,
          2,
          3,
          4,
          5,
          6,
          7,
          8,
          9,
          10,
          11,
          12,
          13,
          14,
          15,
          16,
          17,
          18,
          19,
          20,
          21,
          22,
          23,
          24,
          25,
          26,
          27,
          28,
          29,
          30,
          31,
          32,
          33,
          34,
          35,
          36,
          37,
          38,
          39,
          40,
          41,
          42,
          43,
          44,
          45,
          46,
          47,
          48,
          49,
          50,
          51,
          52,
          53,
          54,
          55,
          56,
          57,
          58,
          59,
          60,
          61,
          62,
          63,
          64,
          65,
          66,
          67,
          68,
          69,
          70,
          71,
          72,
          73,
          74,
          75,
          76,
          77,
          78,
          79,
          80,
          81,
          82,
          83,
          84,
          85,
          86,
          87,
          88,
          89,
          90,
          91,
          92,
          93,
          94,
          95,
          96,
          97,
          98,
          99,
          100,
          101,
          102,
          103,
          104,
          105,
          106,
          107,
          108,
          109,
          110,
          111,
          112,
          113,
          114,
          115,
          116,
          117,
          118,
          119,
          120,
          121,
          122,
          123,
          124,
          125,
          126,
          127
         ],
         "y": [
          -1.019164704212197,
          0.18461200891703228,
          2.36747865985135,
          -0.3463112248036393,
          0.19221571234998577,
          1.0318347249508848,
          0.5621204007963544,
          2.4533154259438703,
          -0.679630325834898,
          -1.4984702948724322,
          -1.2684316845387207,
          -0.53743014443861,
          -0.8708461988401373,
          0.023574294640042237,
          -2.3733708628326493,
          -0.22365915122918004,
          -0.47076169982742794,
          1.4320894104918542,
          0.13067511957151012,
          0.7574834360215955,
          -0.5204156214433282,
          0.42923032591810684,
          1.2408073932678625,
          0.15367218819408934,
          -0.6919671926872799,
          0.59197565905211,
          1.0735960560897897,
          0.7265034914095371,
          0.825156664026023,
          -0.9666953799825676,
          -0.13068438870601173,
          -1.0034081192938784,
          1.0190606020173931,
          -0.41847947239334937,
          -1.031140038116505,
          -1.7943552066877098,
          0.26566126266933016,
          0.08619706754234442,
          -0.5213478125014568,
          -0.1887746551246498,
          1.0403591102216962,
          -0.0946279675801162,
          -0.7864878026948032,
          -0.45355349571355075,
          -0.25957300445003595,
          -0.852211846607594,
          0.7533463006863875,
          -0.8800473980860103,
          -0.6894320818700505,
          1.225725696772958,
          -0.5346329183530285,
          1.3794952980170194,
          0.1060678235218111,
          -1.6381536136308517,
          0.01218586429467647,
          0.49483651828995845,
          -0.5727074558756919,
          -0.7692993070901369,
          1.1569631023718574,
          -0.3742378884222212,
          0.5906551541003622,
          0.7581634595615298,
          0.2307519541434443,
          -0.8457017648488541,
          -0.5646542810370359,
          1.7132034696800607,
          0.3689732450371013,
          -1.1651778702686963,
          -0.05439023727718234,
          1.0726661567567202,
          0.4054418931779678,
          2.9859608423779807,
          0.07940147766625773,
          -0.41792628649399044,
          -2.1366051527391936,
          0.30663136678404773,
          0.32760507119665244,
          -0.06825069937258582,
          -0.14835739017292887,
          0.5053141934562962,
          0.1757895658168738,
          1.6882307190418053,
          -0.32246057832446634,
          -0.790237802871208,
          0.9672091260301348,
          -0.36279963256385095,
          -0.9901081615460791,
          -0.29441155277069764,
          1.4203658428828003,
          -0.05633027595457506,
          0.41166607187016246,
          -0.26789661986741914,
          -0.5901633678348356,
          0.8790684063782832,
          -1.8212554324664716,
          0.06429573097444108,
          0.34951549110873253,
          2.669378719790788,
          -1.5000130835992251,
          -0.2003626014758096,
          0.30161487728731406,
          1.4765800084804066,
          0.9502554308760126,
          2.422068886351497,
          0.12077746950419023,
          1.4826031797025183,
          0.5684087093428847,
          -0.49248413647678174,
          0.4155476043425218,
          0.11073309880245004,
          -1.390542612495689,
          0.6339677724890467,
          0.32191719679808806,
          0.8889746727813205,
          -1.0120358927340425,
          0.4783089805564204,
          0.0773917260228346,
          1.785303465949995,
          -0.3979152492775083,
          0.36019044466680356,
          1.6182612852178846,
          2.4622834116292975,
          -0.09937408863383751,
          -0.4527576184735288,
          0.3426283159876015,
          -1.1515021798363987,
          0.05791462078232613,
          1.3669716059537744
         ]
        }
       ],
       "layout": {
        "hovermode": "closest",
        "template": {
         "data": {
          "candlestick": [
           {
            "decreasing": {
             "line": {
              "color": "#000033"
             }
            },
            "increasing": {
             "line": {
              "color": "#000032"
             }
            },
            "type": "candlestick"
           }
          ],
          "contour": [
           {
            "colorscale": [
             [
              0,
              "#000011"
             ],
             [
              0.1111111111111111,
              "#000012"
             ],
             [
              0.2222222222222222,
              "#000013"
             ],
             [
              0.3333333333333333,
              "#000014"
             ],
             [
              0.4444444444444444,
              "#000015"
             ],
             [
              0.5555555555555556,
              "#000016"
             ],
             [
              0.6666666666666666,
              "#000017"
             ],
             [
              0.7777777777777778,
              "#000018"
             ],
             [
              0.8888888888888888,
              "#000019"
             ],
             [
              1,
              "#000020"
             ]
            ],
            "type": "contour"
           }
          ],
          "contourcarpet": [
           {
            "colorscale": [
             [
              0,
              "#000011"
             ],
             [
              0.1111111111111111,
              "#000012"
             ],
             [
              0.2222222222222222,
              "#000013"
             ],
             [
              0.3333333333333333,
              "#000014"
             ],
             [
              0.4444444444444444,
              "#000015"
             ],
             [
              0.5555555555555556,
              "#000016"
             ],
             [
              0.6666666666666666,
              "#000017"
             ],
             [
              0.7777777777777778,
              "#000018"
             ],
             [
              0.8888888888888888,
              "#000019"
             ],
             [
              1,
              "#000020"
             ]
            ],
            "type": "contourcarpet"
           }
          ],
          "heatmap": [
           {
            "colorscale": [
             [
              0,
              "#000011"
             ],
             [
              0.1111111111111111,
              "#000012"
             ],
             [
              0.2222222222222222,
              "#000013"
             ],
             [
              0.3333333333333333,
              "#000014"
             ],
             [
              0.4444444444444444,
              "#000015"
             ],
             [
              0.5555555555555556,
              "#000016"
             ],
             [
              0.6666666666666666,
              "#000017"
             ],
             [
              0.7777777777777778,
              "#000018"
             ],
             [
              0.8888888888888888,
              "#000019"
             ],
             [
              1,
              "#000020"
             ]
            ],
            "type": "heatmap"
           }
          ],
          "histogram2d": [
           {
            "colorscale": [
             [
              0,
              "#000011"
             ],
             [
              0.1111111111111111,
              "#000012"
             ],
             [
              0.2222222222222222,
              "#000013"
             ],
             [
              0.3333333333333333,
              "#000014"
             ],
             [
              0.4444444444444444,
              "#000015"
             ],
             [
              0.5555555555555556,
              "#000016"
             ],
             [
              0.6666666666666666,
              "#000017"
             ],
             [
              0.7777777777777778,
              "#000018"
             ],
             [
              0.8888888888888888,
              "#000019"
             ],
             [
              1,
              "#000020"
             ]
            ],
            "type": "histogram2d"
           }
          ],
          "icicle": [
           {
            "textfont": {
             "color": "white"
            },
            "type": "icicle"
           }
          ],
          "sankey": [
           {
            "textfont": {
             "color": "#000036"
            },
            "type": "sankey"
           }
          ],
          "scatter": [
           {
            "marker": {
             "line": {
              "width": 0
             }
            },
            "type": "scatter"
           }
          ],
          "table": [
           {
            "cells": {
             "fill": {
              "color": "#000038"
             },
             "font": {
              "color": "#000037"
             },
             "line": {
              "color": "#000039"
             }
            },
            "header": {
             "fill": {
              "color": "#000040"
             },
             "font": {
              "color": "#000036"
             },
             "line": {
              "color": "#000039"
             }
            },
            "type": "table"
           }
          ],
          "waterfall": [
           {
            "connector": {
             "line": {
              "color": "#000036",
              "width": 2
             }
            },
            "decreasing": {
             "marker": {
              "color": "#000033"
             }
            },
            "increasing": {
             "marker": {
              "color": "#000032"
             }
            },
            "totals": {
             "marker": {
              "color": "#000034"
             }
            },
            "type": "waterfall"
           }
          ]
         },
         "layout": {
          "coloraxis": {
           "colorscale": [
            [
             0,
             "#000011"
            ],
            [
             0.1111111111111111,
             "#000012"
            ],
            [
             0.2222222222222222,
             "#000013"
            ],
            [
             0.3333333333333333,
             "#000014"
            ],
            [
             0.4444444444444444,
             "#000015"
            ],
            [
             0.5555555555555556,
             "#000016"
            ],
            [
             0.6666666666666666,
             "#000017"
            ],
            [
             0.7777777777777778,
             "#000018"
            ],
            [
             0.8888888888888888,
             "#000019"
            ],
            [
             1,
             "#000020"
            ]
           ]
          },
          "colorscale": {
           "diverging": [
            [
             0,
             "#000021"
            ],
            [
             0.1,
             "#000022"
            ],
            [
             0.2,
             "#000023"
            ],
            [
             0.3,
             "#000024"
            ],
            [
             0.4,
             "#000025"
            ],
            [
             0.5,
             "#000026"
            ],
            [
             0.6,
             "#000027"
            ],
            [
             0.7,
             "#000028"
            ],
            [
             0.8,
             "#000029"
            ],
            [
             0.9,
             "#000030"
            ],
            [
             1,
             "#000031"
            ]
           ],
           "sequential": [
            [
             0,
             "#000011"
            ],
            [
             0.1111111111111111,
             "#000012"
            ],
            [
             0.2222222222222222,
             "#000013"
            ],
            [
             0.3333333333333333,
             "#000014"
            ],
            [
             0.4444444444444444,
             "#000015"
            ],
            [
             0.5555555555555556,
             "#000016"
            ],
            [
             0.6666666666666666,
             "#000017"
            ],
            [
             0.7777777777777778,
             "#000018"
            ],
            [
             0.8888888888888888,
             "#000019"
            ],
            [
             1,
             "#000020"
            ]
           ],
           "sequentialminus": [
            [
             0,
             "#000011"
            ],
            [
             0.1111111111111111,
             "#000012"
            ],
            [
             0.2222222222222222,
             "#000013"
            ],
            [
             0.3333333333333333,
             "#000014"
            ],
            [
             0.4444444444444444,
             "#000015"
            ],
            [
             0.5555555555555556,
             "#000016"
            ],
            [
             0.6666666666666666,
             "#000017"
            ],
            [
             0.7777777777777778,
             "#000018"
            ],
            [
             0.8888888888888888,
             "#000019"
            ],
            [
             1,
             "#000020"
            ]
           ]
          },
          "colorway": [
           "#000001",
           "#000002",
           "#000003",
           "#000004",
           "#000005",
           "#000006",
           "#000007",
           "#000008",
           "#000009",
           "#000010"
          ]
         }
        },
        "title": {
         "text": "BPSK"
        },
        "xaxis": {
         "title": {
          "text": "Time"
         }
        },
        "yaxis": {
         "title": {
          "text": "Amplitude"
         }
        }
       }
      }
     },
     "metadata": {},
     "output_type": "display_data"
    }
   ],
   "source": [
    "import numpy as np\n",
    "import plotly.graph_objects as go\n",
    "\n",
    "def plot_real_imaginary_plotly(signal_data, modulation_type):\n",
    "    \"\"\"\n",
    "    Plot the real and imaginary parts of a signal data array using Plotly.\n",
    "\n",
    "    Parameters:\n",
    "    signal_data (ndarray): Input signal data array with shape (1, N, 2),\n",
    "                           where N is the number of data points.\n",
    "\n",
    "    Returns:\n",
    "    None (displays the interactive plot)\n",
    "    \"\"\"\n",
    "    # Extract real and imaginary parts from the signal data\n",
    "    real_part = signal_data[0, :, 0]\n",
    "    imaginary_part = signal_data[0, :, 1]\n",
    "\n",
    "    # Create a Plotly figure for an interactive line plot\n",
    "    fig = go.Figure()\n",
    "\n",
    "    # Add a line trace for the real part\n",
    "    fig.add_trace(go.Scatter(x=np.arange(len(real_part)), y=real_part,\n",
    "                             mode='lines', name='Real Part', line=dict(color='blue')))\n",
    "\n",
    "    # Add a line trace for the imaginary part\n",
    "    fig.add_trace(go.Scatter(x=np.arange(len(imaginary_part)), y=imaginary_part,\n",
    "                             mode='lines', name='Imaginary Part', line=dict(color='orange', dash='dash')))\n",
    "\n",
    "    # Update layout properties\n",
    "    fig.update_layout(title=modulation_type,\n",
    "                      xaxis_title='Time',\n",
    "                      yaxis_title='Amplitude',\n",
    "                      hovermode='closest')\n",
    "\n",
    "    # Show the interactive plot\n",
    "    fig.show()\n",
    "\n",
    "# Example usage:\n",
    "# Generate example signal data (replace with your actual signal data)\n",
    "signal_data = np.random.randn(1, 128, 2)\n",
    "plot_real_imaginary_plotly(signal_data, 'BPSK')\n"
   ]
  },
  {
   "cell_type": "code",
   "execution_count": 16,
   "metadata": {},
   "outputs": [
    {
     "name": "stdout",
     "output_type": "stream",
     "text": [
      "Requirement already satisfied: nbformat in /Users/dylannguyen/anaconda3/envs/dip_end/lib/python3.10/site-packages (5.10.4)\n",
      "Requirement already satisfied: fastjsonschema>=2.15 in /Users/dylannguyen/anaconda3/envs/dip_end/lib/python3.10/site-packages (from nbformat) (2.19.1)\n",
      "Requirement already satisfied: jsonschema>=2.6 in /Users/dylannguyen/anaconda3/envs/dip_end/lib/python3.10/site-packages (from nbformat) (4.21.1)\n",
      "Requirement already satisfied: jupyter-core!=5.0.*,>=4.12 in /Users/dylannguyen/anaconda3/envs/dip_end/lib/python3.10/site-packages (from nbformat) (5.5.0)\n",
      "Requirement already satisfied: traitlets>=5.1 in /Users/dylannguyen/anaconda3/envs/dip_end/lib/python3.10/site-packages (from nbformat) (5.14.2)\n",
      "Requirement already satisfied: attrs>=22.2.0 in /Users/dylannguyen/anaconda3/envs/dip_end/lib/python3.10/site-packages (from jsonschema>=2.6->nbformat) (23.2.0)\n",
      "Requirement already satisfied: jsonschema-specifications>=2023.03.6 in /Users/dylannguyen/anaconda3/envs/dip_end/lib/python3.10/site-packages (from jsonschema>=2.6->nbformat) (2023.12.1)\n",
      "Requirement already satisfied: referencing>=0.28.4 in /Users/dylannguyen/anaconda3/envs/dip_end/lib/python3.10/site-packages (from jsonschema>=2.6->nbformat) (0.34.0)\n",
      "Requirement already satisfied: rpds-py>=0.7.1 in /Users/dylannguyen/anaconda3/envs/dip_end/lib/python3.10/site-packages (from jsonschema>=2.6->nbformat) (0.18.0)\n",
      "Requirement already satisfied: platformdirs>=2.5 in /Users/dylannguyen/anaconda3/envs/dip_end/lib/python3.10/site-packages (from jupyter-core!=5.0.*,>=4.12->nbformat) (4.2.0)\n",
      "Note: you may need to restart the kernel to use updated packages.\n"
     ]
    }
   ],
   "source": [
    "pip install --upgrade nbformat"
   ]
  },
  {
   "cell_type": "code",
   "execution_count": 21,
   "metadata": {},
   "outputs": [],
   "source": [
    "A = next(iter(data_dict))\n",
    "modulation_type = f'{A[0]}_{A[1]}dB_{A[2]}Hz'"
   ]
  },
  {
   "cell_type": "code",
   "execution_count": 22,
   "metadata": {},
   "outputs": [
    {
     "data": {
      "text/plain": [
       "'BPSK_15dB_5Hz'"
      ]
     },
     "execution_count": 22,
     "metadata": {},
     "output_type": "execute_result"
    }
   ],
   "source": [
    "modulation_type"
   ]
  },
  {
   "cell_type": "code",
   "execution_count": null,
   "metadata": {},
   "outputs": [],
   "source": []
  }
 ],
 "metadata": {
  "kernelspec": {
   "display_name": "dip_end",
   "language": "python",
   "name": "python3"
  },
  "language_info": {
   "codemirror_mode": {
    "name": "ipython",
    "version": 3
   },
   "file_extension": ".py",
   "mimetype": "text/x-python",
   "name": "python",
   "nbconvert_exporter": "python",
   "pygments_lexer": "ipython3",
   "version": "3.10.14"
  }
 },
 "nbformat": 4,
 "nbformat_minor": 2
}
